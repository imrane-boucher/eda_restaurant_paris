{
 "cells": [
  {
   "cell_type": "markdown",
   "metadata": {},
   "source": [
    "# Data cleaning "
   ]
  },
  {
   "cell_type": "markdown",
   "metadata": {},
   "source": [
    "## Librairies"
   ]
  },
  {
   "cell_type": "code",
   "execution_count": 1,
   "metadata": {},
   "outputs": [],
   "source": [
    "import pandas as pd"
   ]
  },
  {
   "cell_type": "code",
   "execution_count": 2,
   "metadata": {},
   "outputs": [],
   "source": [
    "df = pd.read_csv('data/restaurant_data.csv')"
   ]
  },
  {
   "cell_type": "code",
   "execution_count": 5,
   "metadata": {},
   "outputs": [
    {
     "data": {
      "text/html": [
       "<div>\n",
       "<style scoped>\n",
       "    .dataframe tbody tr th:only-of-type {\n",
       "        vertical-align: middle;\n",
       "    }\n",
       "\n",
       "    .dataframe tbody tr th {\n",
       "        vertical-align: top;\n",
       "    }\n",
       "\n",
       "    .dataframe thead th {\n",
       "        text-align: right;\n",
       "    }\n",
       "</style>\n",
       "<table border=\"1\" class=\"dataframe\">\n",
       "  <thead>\n",
       "    <tr style=\"text-align: right;\">\n",
       "      <th></th>\n",
       "      <th>id</th>\n",
       "      <th>alias</th>\n",
       "      <th>name</th>\n",
       "      <th>image_url</th>\n",
       "      <th>is_closed</th>\n",
       "      <th>url</th>\n",
       "      <th>review_count</th>\n",
       "      <th>categories</th>\n",
       "      <th>rating</th>\n",
       "      <th>coordinates</th>\n",
       "      <th>transactions</th>\n",
       "      <th>price</th>\n",
       "      <th>location</th>\n",
       "      <th>phone</th>\n",
       "      <th>display_phone</th>\n",
       "      <th>distance</th>\n",
       "    </tr>\n",
       "  </thead>\n",
       "  <tbody>\n",
       "    <tr>\n",
       "      <th>0</th>\n",
       "      <td>ya9qZ-AeNav0H0EWZg7l7g</td>\n",
       "      <td>baroche-paris-3</td>\n",
       "      <td>Baroche</td>\n",
       "      <td>https://s3-media2.fl.yelpcdn.com/bphoto/p6oseQ...</td>\n",
       "      <td>False</td>\n",
       "      <td>https://www.yelp.com/biz/baroche-paris-3?adjus...</td>\n",
       "      <td>204</td>\n",
       "      <td>[{'alias': 'brasseries', 'title': 'Brasseries'}]</td>\n",
       "      <td>4.0</td>\n",
       "      <td>{'latitude': 48.871315, 'longitude': 2.307362}</td>\n",
       "      <td>[]</td>\n",
       "      <td>€€</td>\n",
       "      <td>{'address1': '101 rue la Boétie', 'address2': ...</td>\n",
       "      <td>3.314360e+10</td>\n",
       "      <td>+33 1 43 59 69 57</td>\n",
       "      <td>2748.909032</td>\n",
       "    </tr>\n",
       "    <tr>\n",
       "      <th>1</th>\n",
       "      <td>5oR_HYjo9dJUQCIr9jpzfw</td>\n",
       "      <td>le-train-bleu-paris-3</td>\n",
       "      <td>Le Train Bleu</td>\n",
       "      <td>https://s3-media2.fl.yelpcdn.com/bphoto/Z9XhJ0...</td>\n",
       "      <td>False</td>\n",
       "      <td>https://www.yelp.com/biz/le-train-bleu-paris-3...</td>\n",
       "      <td>256</td>\n",
       "      <td>[{'alias': 'french', 'title': 'French'}]</td>\n",
       "      <td>4.0</td>\n",
       "      <td>{'latitude': 48.844901, 'longitude': 2.373278}</td>\n",
       "      <td>[]</td>\n",
       "      <td>€€€€</td>\n",
       "      <td>{'address1': 'Place Louis Armand', 'address2':...</td>\n",
       "      <td>3.314343e+10</td>\n",
       "      <td>+33 1 43 43 09 06</td>\n",
       "      <td>2963.974796</td>\n",
       "    </tr>\n",
       "  </tbody>\n",
       "</table>\n",
       "</div>"
      ],
      "text/plain": [
       "                       id                  alias           name  \\\n",
       "0  ya9qZ-AeNav0H0EWZg7l7g        baroche-paris-3        Baroche   \n",
       "1  5oR_HYjo9dJUQCIr9jpzfw  le-train-bleu-paris-3  Le Train Bleu   \n",
       "\n",
       "                                           image_url  is_closed  \\\n",
       "0  https://s3-media2.fl.yelpcdn.com/bphoto/p6oseQ...      False   \n",
       "1  https://s3-media2.fl.yelpcdn.com/bphoto/Z9XhJ0...      False   \n",
       "\n",
       "                                                 url  review_count  \\\n",
       "0  https://www.yelp.com/biz/baroche-paris-3?adjus...           204   \n",
       "1  https://www.yelp.com/biz/le-train-bleu-paris-3...           256   \n",
       "\n",
       "                                         categories  rating  \\\n",
       "0  [{'alias': 'brasseries', 'title': 'Brasseries'}]     4.0   \n",
       "1          [{'alias': 'french', 'title': 'French'}]     4.0   \n",
       "\n",
       "                                      coordinates transactions price  \\\n",
       "0  {'latitude': 48.871315, 'longitude': 2.307362}           []    €€   \n",
       "1  {'latitude': 48.844901, 'longitude': 2.373278}           []  €€€€   \n",
       "\n",
       "                                            location         phone  \\\n",
       "0  {'address1': '101 rue la Boétie', 'address2': ...  3.314360e+10   \n",
       "1  {'address1': 'Place Louis Armand', 'address2':...  3.314343e+10   \n",
       "\n",
       "       display_phone     distance  \n",
       "0  +33 1 43 59 69 57  2748.909032  \n",
       "1  +33 1 43 43 09 06  2963.974796  "
      ]
     },
     "execution_count": 5,
     "metadata": {},
     "output_type": "execute_result"
    }
   ],
   "source": [
    "df.head(2)"
   ]
  },
  {
   "cell_type": "code",
   "execution_count": 7,
   "metadata": {},
   "outputs": [
    {
     "data": {
      "text/plain": [
       "\"{'address1': '101 rue la Boétie', 'address2': None, 'address3': None, 'city': 'Paris', 'zip_code': '75008', 'country': 'FR', 'state': '75', 'display_address': ['101 rue la Boétie', '75008 Paris', 'France']}\""
      ]
     },
     "execution_count": 7,
     "metadata": {},
     "output_type": "execute_result"
    }
   ],
   "source": [
    "df['location'].iloc[0]"
   ]
  },
  {
   "cell_type": "code",
   "execution_count": null,
   "metadata": {},
   "outputs": [],
   "source": []
  }
 ],
 "metadata": {
  "kernelspec": {
   "display_name": "Python 3",
   "language": "python",
   "name": "python3"
  },
  "language_info": {
   "codemirror_mode": {
    "name": "ipython",
    "version": 3
   },
   "file_extension": ".py",
   "mimetype": "text/x-python",
   "name": "python",
   "nbconvert_exporter": "python",
   "pygments_lexer": "ipython3",
   "version": "3.7.6"
  }
 },
 "nbformat": 4,
 "nbformat_minor": 4
}
