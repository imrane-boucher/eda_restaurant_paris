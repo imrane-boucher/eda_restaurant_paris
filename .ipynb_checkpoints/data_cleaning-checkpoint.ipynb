{
 "cells": [
  {
   "cell_type": "markdown",
   "metadata": {},
   "source": [
    "# Data cleaning "
   ]
  },
  {
   "cell_type": "markdown",
   "metadata": {},
   "source": [
    "## Librairies"
   ]
  },
  {
   "cell_type": "code",
   "execution_count": 139,
   "metadata": {},
   "outputs": [],
   "source": [
    "import pandas as pd\n",
    "import json\n",
    "import ast\n",
    "import re"
   ]
  },
  {
   "cell_type": "markdown",
   "metadata": {},
   "source": [
    "### import data"
   ]
  },
  {
   "cell_type": "code",
   "execution_count": 117,
   "metadata": {},
   "outputs": [],
   "source": [
    "df = pd.read_csv('data/restaurant_data.csv')"
   ]
  },
  {
   "cell_type": "markdown",
   "metadata": {},
   "source": [
    "### data overview"
   ]
  },
  {
   "cell_type": "code",
   "execution_count": 118,
   "metadata": {},
   "outputs": [
    {
     "data": {
      "text/html": [
       "<div>\n",
       "<style scoped>\n",
       "    .dataframe tbody tr th:only-of-type {\n",
       "        vertical-align: middle;\n",
       "    }\n",
       "\n",
       "    .dataframe tbody tr th {\n",
       "        vertical-align: top;\n",
       "    }\n",
       "\n",
       "    .dataframe thead th {\n",
       "        text-align: right;\n",
       "    }\n",
       "</style>\n",
       "<table border=\"1\" class=\"dataframe\">\n",
       "  <thead>\n",
       "    <tr style=\"text-align: right;\">\n",
       "      <th></th>\n",
       "      <th>id</th>\n",
       "      <th>alias</th>\n",
       "      <th>name</th>\n",
       "      <th>image_url</th>\n",
       "      <th>is_closed</th>\n",
       "      <th>url</th>\n",
       "      <th>review_count</th>\n",
       "      <th>categories</th>\n",
       "      <th>rating</th>\n",
       "      <th>coordinates</th>\n",
       "      <th>transactions</th>\n",
       "      <th>price</th>\n",
       "      <th>location</th>\n",
       "      <th>phone</th>\n",
       "      <th>display_phone</th>\n",
       "      <th>distance</th>\n",
       "    </tr>\n",
       "  </thead>\n",
       "  <tbody>\n",
       "    <tr>\n",
       "      <th>0</th>\n",
       "      <td>ya9qZ-AeNav0H0EWZg7l7g</td>\n",
       "      <td>baroche-paris-3</td>\n",
       "      <td>Baroche</td>\n",
       "      <td>https://s3-media2.fl.yelpcdn.com/bphoto/p6oseQ...</td>\n",
       "      <td>False</td>\n",
       "      <td>https://www.yelp.com/biz/baroche-paris-3?adjus...</td>\n",
       "      <td>204</td>\n",
       "      <td>[{'alias': 'brasseries', 'title': 'Brasseries'}]</td>\n",
       "      <td>4.0</td>\n",
       "      <td>{'latitude': 48.871315, 'longitude': 2.307362}</td>\n",
       "      <td>[]</td>\n",
       "      <td>€€</td>\n",
       "      <td>{'address1': '101 rue la Boétie', 'address2': ...</td>\n",
       "      <td>3.314360e+10</td>\n",
       "      <td>+33 1 43 59 69 57</td>\n",
       "      <td>2748.909032</td>\n",
       "    </tr>\n",
       "    <tr>\n",
       "      <th>1</th>\n",
       "      <td>5oR_HYjo9dJUQCIr9jpzfw</td>\n",
       "      <td>le-train-bleu-paris-3</td>\n",
       "      <td>Le Train Bleu</td>\n",
       "      <td>https://s3-media2.fl.yelpcdn.com/bphoto/Z9XhJ0...</td>\n",
       "      <td>False</td>\n",
       "      <td>https://www.yelp.com/biz/le-train-bleu-paris-3...</td>\n",
       "      <td>256</td>\n",
       "      <td>[{'alias': 'french', 'title': 'French'}]</td>\n",
       "      <td>4.0</td>\n",
       "      <td>{'latitude': 48.844901, 'longitude': 2.373278}</td>\n",
       "      <td>[]</td>\n",
       "      <td>€€€€</td>\n",
       "      <td>{'address1': 'Place Louis Armand', 'address2':...</td>\n",
       "      <td>3.314343e+10</td>\n",
       "      <td>+33 1 43 43 09 06</td>\n",
       "      <td>2963.974796</td>\n",
       "    </tr>\n",
       "  </tbody>\n",
       "</table>\n",
       "</div>"
      ],
      "text/plain": [
       "                       id                  alias           name  \\\n",
       "0  ya9qZ-AeNav0H0EWZg7l7g        baroche-paris-3        Baroche   \n",
       "1  5oR_HYjo9dJUQCIr9jpzfw  le-train-bleu-paris-3  Le Train Bleu   \n",
       "\n",
       "                                           image_url  is_closed  \\\n",
       "0  https://s3-media2.fl.yelpcdn.com/bphoto/p6oseQ...      False   \n",
       "1  https://s3-media2.fl.yelpcdn.com/bphoto/Z9XhJ0...      False   \n",
       "\n",
       "                                                 url  review_count  \\\n",
       "0  https://www.yelp.com/biz/baroche-paris-3?adjus...           204   \n",
       "1  https://www.yelp.com/biz/le-train-bleu-paris-3...           256   \n",
       "\n",
       "                                         categories  rating  \\\n",
       "0  [{'alias': 'brasseries', 'title': 'Brasseries'}]     4.0   \n",
       "1          [{'alias': 'french', 'title': 'French'}]     4.0   \n",
       "\n",
       "                                      coordinates transactions price  \\\n",
       "0  {'latitude': 48.871315, 'longitude': 2.307362}           []    €€   \n",
       "1  {'latitude': 48.844901, 'longitude': 2.373278}           []  €€€€   \n",
       "\n",
       "                                            location         phone  \\\n",
       "0  {'address1': '101 rue la Boétie', 'address2': ...  3.314360e+10   \n",
       "1  {'address1': 'Place Louis Armand', 'address2':...  3.314343e+10   \n",
       "\n",
       "       display_phone     distance  \n",
       "0  +33 1 43 59 69 57  2748.909032  \n",
       "1  +33 1 43 43 09 06  2963.974796  "
      ]
     },
     "execution_count": 118,
     "metadata": {},
     "output_type": "execute_result"
    }
   ],
   "source": [
    "df.head(2)"
   ]
  },
  {
   "cell_type": "code",
   "execution_count": 119,
   "metadata": {},
   "outputs": [
    {
     "name": "stdout",
     "output_type": "stream",
     "text": [
      "<class 'pandas.core.frame.DataFrame'>\n",
      "RangeIndex: 950 entries, 0 to 949\n",
      "Data columns (total 16 columns):\n",
      " #   Column         Non-Null Count  Dtype  \n",
      "---  ------         --------------  -----  \n",
      " 0   id             950 non-null    object \n",
      " 1   alias          950 non-null    object \n",
      " 2   name           950 non-null    object \n",
      " 3   image_url      943 non-null    object \n",
      " 4   is_closed      950 non-null    bool   \n",
      " 5   url            950 non-null    object \n",
      " 6   review_count   950 non-null    int64  \n",
      " 7   categories     950 non-null    object \n",
      " 8   rating         950 non-null    float64\n",
      " 9   coordinates    950 non-null    object \n",
      " 10  transactions   950 non-null    object \n",
      " 11  price          750 non-null    object \n",
      " 12  location       950 non-null    object \n",
      " 13  phone          914 non-null    float64\n",
      " 14  display_phone  914 non-null    object \n",
      " 15  distance       950 non-null    float64\n",
      "dtypes: bool(1), float64(3), int64(1), object(11)\n",
      "memory usage: 112.4+ KB\n"
     ]
    }
   ],
   "source": [
    "df.info()"
   ]
  },
  {
   "cell_type": "code",
   "execution_count": 120,
   "metadata": {},
   "outputs": [
    {
     "data": {
      "text/plain": [
       "\"{'address1': '101 rue la Boétie', 'address2': None, 'address3': None, 'city': 'Paris', 'zip_code': '75008', 'country': 'FR', 'state': '75', 'display_address': ['101 rue la Boétie', '75008 Paris', 'France']}\""
      ]
     },
     "execution_count": 120,
     "metadata": {},
     "output_type": "execute_result"
    }
   ],
   "source": [
    "df['location'].iloc[0]"
   ]
  },
  {
   "cell_type": "markdown",
   "metadata": {},
   "source": [
    "### Data cleaning process"
   ]
  },
  {
   "cell_type": "code",
   "execution_count": 121,
   "metadata": {},
   "outputs": [],
   "source": [
    "# interesting features : \n",
    "# -- name (-)\n",
    "# -- review_count (++ cleaned)\n",
    "# -- categories (++ not_cleaned)\n",
    "# -- rating (++ cleaned)\n",
    "# -- price (++ not_cleaned)\n",
    "# -- location (not_cleaned)\n",
    "# -- zip_code (++ cleaned)"
   ]
  },
  {
   "cell_type": "code",
   "execution_count": 122,
   "metadata": {},
   "outputs": [
    {
     "data": {
      "text/html": [
       "<div>\n",
       "<style scoped>\n",
       "    .dataframe tbody tr th:only-of-type {\n",
       "        vertical-align: middle;\n",
       "    }\n",
       "\n",
       "    .dataframe tbody tr th {\n",
       "        vertical-align: top;\n",
       "    }\n",
       "\n",
       "    .dataframe thead th {\n",
       "        text-align: right;\n",
       "    }\n",
       "</style>\n",
       "<table border=\"1\" class=\"dataframe\">\n",
       "  <thead>\n",
       "    <tr style=\"text-align: right;\">\n",
       "      <th></th>\n",
       "      <th>id</th>\n",
       "      <th>alias</th>\n",
       "      <th>name</th>\n",
       "      <th>image_url</th>\n",
       "      <th>is_closed</th>\n",
       "      <th>url</th>\n",
       "      <th>review_count</th>\n",
       "      <th>categories</th>\n",
       "      <th>rating</th>\n",
       "      <th>coordinates</th>\n",
       "      <th>transactions</th>\n",
       "      <th>price</th>\n",
       "      <th>location</th>\n",
       "      <th>phone</th>\n",
       "      <th>display_phone</th>\n",
       "      <th>distance</th>\n",
       "    </tr>\n",
       "  </thead>\n",
       "  <tbody>\n",
       "    <tr>\n",
       "      <th>0</th>\n",
       "      <td>ya9qZ-AeNav0H0EWZg7l7g</td>\n",
       "      <td>baroche-paris-3</td>\n",
       "      <td>Baroche</td>\n",
       "      <td>https://s3-media2.fl.yelpcdn.com/bphoto/p6oseQ...</td>\n",
       "      <td>False</td>\n",
       "      <td>https://www.yelp.com/biz/baroche-paris-3?adjus...</td>\n",
       "      <td>204</td>\n",
       "      <td>[{'alias': 'brasseries', 'title': 'Brasseries'}]</td>\n",
       "      <td>4.0</td>\n",
       "      <td>{'latitude': 48.871315, 'longitude': 2.307362}</td>\n",
       "      <td>[]</td>\n",
       "      <td>€€</td>\n",
       "      <td>{'address1': '101 rue la Boétie', 'address2': ...</td>\n",
       "      <td>3.314360e+10</td>\n",
       "      <td>+33 1 43 59 69 57</td>\n",
       "      <td>2748.909032</td>\n",
       "    </tr>\n",
       "  </tbody>\n",
       "</table>\n",
       "</div>"
      ],
      "text/plain": [
       "                       id            alias     name  \\\n",
       "0  ya9qZ-AeNav0H0EWZg7l7g  baroche-paris-3  Baroche   \n",
       "\n",
       "                                           image_url  is_closed  \\\n",
       "0  https://s3-media2.fl.yelpcdn.com/bphoto/p6oseQ...      False   \n",
       "\n",
       "                                                 url  review_count  \\\n",
       "0  https://www.yelp.com/biz/baroche-paris-3?adjus...           204   \n",
       "\n",
       "                                         categories  rating  \\\n",
       "0  [{'alias': 'brasseries', 'title': 'Brasseries'}]     4.0   \n",
       "\n",
       "                                      coordinates transactions price  \\\n",
       "0  {'latitude': 48.871315, 'longitude': 2.307362}           []    €€   \n",
       "\n",
       "                                            location         phone  \\\n",
       "0  {'address1': '101 rue la Boétie', 'address2': ...  3.314360e+10   \n",
       "\n",
       "       display_phone     distance  \n",
       "0  +33 1 43 59 69 57  2748.909032  "
      ]
     },
     "execution_count": 122,
     "metadata": {},
     "output_type": "execute_result"
    }
   ],
   "source": [
    "df.head(1)"
   ]
  },
  {
   "cell_type": "code",
   "execution_count": 123,
   "metadata": {},
   "outputs": [],
   "source": [
    "# first step - drop useless columns\n",
    "df = df.drop(['id', 'alias', 'image_url', 'is_closed', 'url', 'coordinates', \n",
    "              'transactions', 'phone', 'display_phone', 'distance'], axis= 1)"
   ]
  },
  {
   "cell_type": "code",
   "execution_count": 124,
   "metadata": {},
   "outputs": [],
   "source": [
    "# second step - prepare data for choropleth maps\n",
    "# 1 - extract zip code from location \n",
    "#   -- transforming location strings into dictionnaries \n",
    "#   -- create a new zip code column "
   ]
  },
  {
   "cell_type": "code",
   "execution_count": 125,
   "metadata": {},
   "outputs": [],
   "source": [
    "# transform location strings into proper python dictionnaries\n",
    "df['location'] = df['location'].apply(lambda x : ast.literal_eval(x))"
   ]
  },
  {
   "cell_type": "code",
   "execution_count": 126,
   "metadata": {},
   "outputs": [
    {
     "data": {
      "text/plain": [
       "'75008'"
      ]
     },
     "execution_count": 126,
     "metadata": {},
     "output_type": "execute_result"
    }
   ],
   "source": [
    "df['location'].iloc[0]['zip_code']"
   ]
  },
  {
   "cell_type": "code",
   "execution_count": 127,
   "metadata": {},
   "outputs": [],
   "source": [
    "# create a column with all the zip codes \n",
    "df['zip_code'] = df['location'].apply(lambda x: x['zip_code'])"
   ]
  },
  {
   "cell_type": "code",
   "execution_count": 128,
   "metadata": {},
   "outputs": [
    {
     "data": {
      "text/plain": [
       "'brasseries'"
      ]
     },
     "execution_count": 128,
     "metadata": {},
     "output_type": "execute_result"
    }
   ],
   "source": [
    "# step 3 - clean categories, price, and location \n",
    "#        -- categories is a string so we need to convert it to a python dictionnary\n",
    "ast.literal_eval(df['categories'].iloc[0])[0]['alias']"
   ]
  },
  {
   "cell_type": "code",
   "execution_count": 129,
   "metadata": {},
   "outputs": [],
   "source": [
    "# clean category \n",
    "df['categories'] = df['categories'].apply(lambda x: ast.literal_eval(x)[0]['alias'])"
   ]
  },
  {
   "cell_type": "code",
   "execution_count": 131,
   "metadata": {},
   "outputs": [],
   "source": [
    "# clean price\n",
    "df['price'] = df['price'].replace(['€', '€€', '€€€', '€€€€'], [1.0, 2.0, 3.0, 4.0])"
   ]
  },
  {
   "cell_type": "code",
   "execution_count": 135,
   "metadata": {},
   "outputs": [],
   "source": [
    "# clean location\n",
    "df['location'] = df['location'].apply(lambda x: x['address1'])"
   ]
  },
  {
   "cell_type": "code",
   "execution_count": 137,
   "metadata": {},
   "outputs": [
    {
     "data": {
      "text/plain": [
       "0                  101 rue la Boétie\n",
       "1                 Place Louis Armand\n",
       "2                    2 rue Descartes\n",
       "3           11 rue Grégoire de Tours\n",
       "4                  2 bis rue de Lyon\n",
       "                   ...              \n",
       "945                100 rue Rambuteau\n",
       "946               47 rue Montpensier\n",
       "947    6 rue des Fosses Saint-Marcel\n",
       "948           1 rue de la Convention\n",
       "949          4 Cité de l'Ameublement\n",
       "Name: location, Length: 950, dtype: object"
      ]
     },
     "execution_count": 137,
     "metadata": {},
     "output_type": "execute_result"
    }
   ],
   "source": [
    "df['location']"
   ]
  },
  {
   "cell_type": "code",
   "execution_count": 141,
   "metadata": {},
   "outputs": [],
   "source": [
    "# getting only the street name \n",
    "df['street'] = df['location'].apply(lambda x: re.sub('\\d', '', x))"
   ]
  },
  {
   "cell_type": "code",
   "execution_count": 149,
   "metadata": {},
   "outputs": [],
   "source": [
    "# deleting the \"bis\" remaining\n",
    "df['street'] = df['street'].str.replace('bis', '')"
   ]
  },
  {
   "cell_type": "code",
   "execution_count": 151,
   "metadata": {},
   "outputs": [],
   "source": [
    "# dropping location\n",
    "df.drop(['location'], axis=1, inplace=True)"
   ]
  },
  {
   "cell_type": "code",
   "execution_count": 159,
   "metadata": {},
   "outputs": [],
   "source": [
    "# save cleaned data to csv file\n",
    "df.to_csv('data/restaurant_cleaned.csv', index=False, encoding=\"utf-8-sig\")"
   ]
  },
  {
   "cell_type": "code",
   "execution_count": null,
   "metadata": {},
   "outputs": [],
   "source": []
  }
 ],
 "metadata": {
  "kernelspec": {
   "display_name": "Python 3",
   "language": "python",
   "name": "python3"
  },
  "language_info": {
   "codemirror_mode": {
    "name": "ipython",
    "version": 3
   },
   "file_extension": ".py",
   "mimetype": "text/x-python",
   "name": "python",
   "nbconvert_exporter": "python",
   "pygments_lexer": "ipython3",
   "version": "3.7.6"
  }
 },
 "nbformat": 4,
 "nbformat_minor": 4
}
