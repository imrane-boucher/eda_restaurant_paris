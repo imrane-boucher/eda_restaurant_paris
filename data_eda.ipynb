{
 "cells": [
  {
   "cell_type": "markdown",
   "metadata": {},
   "source": [
    "# Data EDA"
   ]
  },
  {
   "cell_type": "markdown",
   "metadata": {},
   "source": [
    "### Librairies"
   ]
  },
  {
   "cell_type": "code",
   "execution_count": 51,
   "metadata": {},
   "outputs": [],
   "source": [
    "import pandas as pd\n",
    "import matplotlib.pyplot as plt\n",
    "import seaborn as sns\n",
    "import numpy as np\n",
    "import folium\n",
    "import qgrid"
   ]
  },
  {
   "cell_type": "code",
   "execution_count": 2,
   "metadata": {},
   "outputs": [],
   "source": [
    "# if I ever want to visualize the whole output:\n",
    "#pd.options.display.max_rows = 4000"
   ]
  },
  {
   "cell_type": "code",
   "execution_count": 54,
   "metadata": {
    "scrolled": true
   },
   "outputs": [
    {
     "data": {
      "text/html": [
       "<div>\n",
       "<style scoped>\n",
       "    .dataframe tbody tr th:only-of-type {\n",
       "        vertical-align: middle;\n",
       "    }\n",
       "\n",
       "    .dataframe tbody tr th {\n",
       "        vertical-align: top;\n",
       "    }\n",
       "\n",
       "    .dataframe thead th {\n",
       "        text-align: right;\n",
       "    }\n",
       "</style>\n",
       "<table border=\"1\" class=\"dataframe\">\n",
       "  <thead>\n",
       "    <tr style=\"text-align: right;\">\n",
       "      <th></th>\n",
       "      <th>name</th>\n",
       "      <th>review_count</th>\n",
       "      <th>categories</th>\n",
       "      <th>rating</th>\n",
       "      <th>price</th>\n",
       "      <th>zip_code</th>\n",
       "      <th>street</th>\n",
       "    </tr>\n",
       "  </thead>\n",
       "  <tbody>\n",
       "    <tr>\n",
       "      <th>0</th>\n",
       "      <td>Baroche</td>\n",
       "      <td>204</td>\n",
       "      <td>brasseries</td>\n",
       "      <td>4.0</td>\n",
       "      <td>2.0</td>\n",
       "      <td>75008</td>\n",
       "      <td>rue la Boétie</td>\n",
       "    </tr>\n",
       "    <tr>\n",
       "      <th>1</th>\n",
       "      <td>Le Train Bleu</td>\n",
       "      <td>256</td>\n",
       "      <td>french</td>\n",
       "      <td>4.0</td>\n",
       "      <td>4.0</td>\n",
       "      <td>75012</td>\n",
       "      <td>Place Louis Armand</td>\n",
       "    </tr>\n",
       "    <tr>\n",
       "      <th>2</th>\n",
       "      <td>La Méthode</td>\n",
       "      <td>29</td>\n",
       "      <td>french</td>\n",
       "      <td>4.0</td>\n",
       "      <td>2.0</td>\n",
       "      <td>75005</td>\n",
       "      <td>rue Descartes</td>\n",
       "    </tr>\n",
       "    <tr>\n",
       "      <th>3</th>\n",
       "      <td>Little Breizh</td>\n",
       "      <td>206</td>\n",
       "      <td>creperies</td>\n",
       "      <td>4.5</td>\n",
       "      <td>2.0</td>\n",
       "      <td>75006</td>\n",
       "      <td>rue Grégoire de Tours</td>\n",
       "    </tr>\n",
       "    <tr>\n",
       "      <th>4</th>\n",
       "      <td>La Consigne</td>\n",
       "      <td>7</td>\n",
       "      <td>brasseries</td>\n",
       "      <td>4.0</td>\n",
       "      <td>2.0</td>\n",
       "      <td>75012</td>\n",
       "      <td>rue de Lyon</td>\n",
       "    </tr>\n",
       "    <tr>\n",
       "      <th>...</th>\n",
       "      <td>...</td>\n",
       "      <td>...</td>\n",
       "      <td>...</td>\n",
       "      <td>...</td>\n",
       "      <td>...</td>\n",
       "      <td>...</td>\n",
       "      <td>...</td>\n",
       "    </tr>\n",
       "    <tr>\n",
       "      <th>944</th>\n",
       "      <td>Le Petit Josselin</td>\n",
       "      <td>78</td>\n",
       "      <td>creperies</td>\n",
       "      <td>4.0</td>\n",
       "      <td>2.0</td>\n",
       "      <td>75014</td>\n",
       "      <td>rue du Montparnasse</td>\n",
       "    </tr>\n",
       "    <tr>\n",
       "      <th>945</th>\n",
       "      <td>La Fresque</td>\n",
       "      <td>79</td>\n",
       "      <td>french</td>\n",
       "      <td>4.0</td>\n",
       "      <td>2.0</td>\n",
       "      <td>75001</td>\n",
       "      <td>rue Rambuteau</td>\n",
       "    </tr>\n",
       "    <tr>\n",
       "      <th>946</th>\n",
       "      <td>Verjus</td>\n",
       "      <td>23</td>\n",
       "      <td>wine_bars</td>\n",
       "      <td>4.5</td>\n",
       "      <td>2.0</td>\n",
       "      <td>75001</td>\n",
       "      <td>rue Montpensier</td>\n",
       "    </tr>\n",
       "    <tr>\n",
       "      <th>947</th>\n",
       "      <td>Desvouges</td>\n",
       "      <td>10</td>\n",
       "      <td>french</td>\n",
       "      <td>4.5</td>\n",
       "      <td>3.0</td>\n",
       "      <td>75005</td>\n",
       "      <td>rue des Fosses Saint Marcel</td>\n",
       "    </tr>\n",
       "    <tr>\n",
       "      <th>948</th>\n",
       "      <td>La Regalia</td>\n",
       "      <td>37</td>\n",
       "      <td>cafes</td>\n",
       "      <td>4.0</td>\n",
       "      <td>2.0</td>\n",
       "      <td>75015</td>\n",
       "      <td>rue de la Convention</td>\n",
       "    </tr>\n",
       "  </tbody>\n",
       "</table>\n",
       "<p>877 rows × 7 columns</p>\n",
       "</div>"
      ],
      "text/plain": [
       "                  name  review_count  categories  rating  price  zip_code  \\\n",
       "0              Baroche           204  brasseries     4.0    2.0     75008   \n",
       "1        Le Train Bleu           256      french     4.0    4.0     75012   \n",
       "2           La Méthode            29      french     4.0    2.0     75005   \n",
       "3        Little Breizh           206   creperies     4.5    2.0     75006   \n",
       "4          La Consigne             7  brasseries     4.0    2.0     75012   \n",
       "..                 ...           ...         ...     ...    ...       ...   \n",
       "944  Le Petit Josselin            78   creperies     4.0    2.0     75014   \n",
       "945         La Fresque            79      french     4.0    2.0     75001   \n",
       "946             Verjus            23   wine_bars     4.5    2.0     75001   \n",
       "947          Desvouges            10      french     4.5    3.0     75005   \n",
       "948         La Regalia            37       cafes     4.0    2.0     75015   \n",
       "\n",
       "                           street  \n",
       "0                   rue la Boétie  \n",
       "1              Place Louis Armand  \n",
       "2                   rue Descartes  \n",
       "3           rue Grégoire de Tours  \n",
       "4                     rue de Lyon  \n",
       "..                            ...  \n",
       "944           rue du Montparnasse  \n",
       "945                 rue Rambuteau  \n",
       "946               rue Montpensier  \n",
       "947   rue des Fosses Saint Marcel  \n",
       "948          rue de la Convention  \n",
       "\n",
       "[877 rows x 7 columns]"
      ]
     },
     "execution_count": 54,
     "metadata": {},
     "output_type": "execute_result"
    }
   ],
   "source": [
    "qgrid_widget = qgrid.show_grid(df, show_toolbar=True)\n",
    "qgrid_widget\n",
    "qgrid_widget.get_changed_df()"
   ]
  },
  {
   "cell_type": "markdown",
   "metadata": {},
   "source": [
    "### import data"
   ]
  },
  {
   "cell_type": "code",
   "execution_count": 3,
   "metadata": {},
   "outputs": [],
   "source": [
    "df = pd.read_csv('data/restaurant_cleaned.csv')"
   ]
  },
  {
   "cell_type": "code",
   "execution_count": 53,
   "metadata": {},
   "outputs": [
    {
     "data": {
      "text/html": [
       "<div>\n",
       "<style scoped>\n",
       "    .dataframe tbody tr th:only-of-type {\n",
       "        vertical-align: middle;\n",
       "    }\n",
       "\n",
       "    .dataframe tbody tr th {\n",
       "        vertical-align: top;\n",
       "    }\n",
       "\n",
       "    .dataframe thead th {\n",
       "        text-align: right;\n",
       "    }\n",
       "</style>\n",
       "<table border=\"1\" class=\"dataframe\">\n",
       "  <thead>\n",
       "    <tr style=\"text-align: right;\">\n",
       "      <th></th>\n",
       "      <th>name</th>\n",
       "      <th>review_count</th>\n",
       "      <th>categories</th>\n",
       "      <th>rating</th>\n",
       "      <th>price</th>\n",
       "      <th>zip_code</th>\n",
       "      <th>street</th>\n",
       "    </tr>\n",
       "  </thead>\n",
       "  <tbody>\n",
       "    <tr>\n",
       "      <th>0</th>\n",
       "      <td>Baroche</td>\n",
       "      <td>204</td>\n",
       "      <td>brasseries</td>\n",
       "      <td>4.0</td>\n",
       "      <td>2.0</td>\n",
       "      <td>75008</td>\n",
       "      <td>rue la Boétie</td>\n",
       "    </tr>\n",
       "    <tr>\n",
       "      <th>1</th>\n",
       "      <td>Le Train Bleu</td>\n",
       "      <td>256</td>\n",
       "      <td>french</td>\n",
       "      <td>4.0</td>\n",
       "      <td>4.0</td>\n",
       "      <td>75012</td>\n",
       "      <td>Place Louis Armand</td>\n",
       "    </tr>\n",
       "    <tr>\n",
       "      <th>2</th>\n",
       "      <td>La Méthode</td>\n",
       "      <td>29</td>\n",
       "      <td>french</td>\n",
       "      <td>4.0</td>\n",
       "      <td>2.0</td>\n",
       "      <td>75005</td>\n",
       "      <td>rue Descartes</td>\n",
       "    </tr>\n",
       "    <tr>\n",
       "      <th>3</th>\n",
       "      <td>Little Breizh</td>\n",
       "      <td>206</td>\n",
       "      <td>creperies</td>\n",
       "      <td>4.5</td>\n",
       "      <td>2.0</td>\n",
       "      <td>75006</td>\n",
       "      <td>rue Grégoire de Tours</td>\n",
       "    </tr>\n",
       "    <tr>\n",
       "      <th>4</th>\n",
       "      <td>La Consigne</td>\n",
       "      <td>7</td>\n",
       "      <td>brasseries</td>\n",
       "      <td>4.0</td>\n",
       "      <td>2.0</td>\n",
       "      <td>75012</td>\n",
       "      <td>rue de Lyon</td>\n",
       "    </tr>\n",
       "    <tr>\n",
       "      <th>...</th>\n",
       "      <td>...</td>\n",
       "      <td>...</td>\n",
       "      <td>...</td>\n",
       "      <td>...</td>\n",
       "      <td>...</td>\n",
       "      <td>...</td>\n",
       "      <td>...</td>\n",
       "    </tr>\n",
       "    <tr>\n",
       "      <th>98</th>\n",
       "      <td>Gemini</td>\n",
       "      <td>32</td>\n",
       "      <td>italian</td>\n",
       "      <td>4.5</td>\n",
       "      <td>2.0</td>\n",
       "      <td>75001</td>\n",
       "      <td>rue des Halles</td>\n",
       "    </tr>\n",
       "    <tr>\n",
       "      <th>99</th>\n",
       "      <td>L'Entente</td>\n",
       "      <td>13</td>\n",
       "      <td>british</td>\n",
       "      <td>4.5</td>\n",
       "      <td>2.0</td>\n",
       "      <td>75002</td>\n",
       "      <td>rue Monsigny</td>\n",
       "    </tr>\n",
       "    <tr>\n",
       "      <th>100</th>\n",
       "      <td>Les Marches</td>\n",
       "      <td>15</td>\n",
       "      <td>french</td>\n",
       "      <td>3.5</td>\n",
       "      <td>2.0</td>\n",
       "      <td>75116</td>\n",
       "      <td>rue de la Manutention</td>\n",
       "    </tr>\n",
       "    <tr>\n",
       "      <th>101</th>\n",
       "      <td>ASPIC</td>\n",
       "      <td>21</td>\n",
       "      <td>french</td>\n",
       "      <td>5.0</td>\n",
       "      <td>4.0</td>\n",
       "      <td>75009</td>\n",
       "      <td>rue de la Tour d'Auvergne</td>\n",
       "    </tr>\n",
       "    <tr>\n",
       "      <th>102</th>\n",
       "      <td>Bulliz</td>\n",
       "      <td>20</td>\n",
       "      <td>gourmet</td>\n",
       "      <td>4.5</td>\n",
       "      <td>1.0</td>\n",
       "      <td>75010</td>\n",
       "      <td>rue d'Hauteville</td>\n",
       "    </tr>\n",
       "  </tbody>\n",
       "</table>\n",
       "<p>100 rows × 7 columns</p>\n",
       "</div>"
      ],
      "text/plain": [
       "              name  review_count  categories  rating  price  zip_code  \\\n",
       "0          Baroche           204  brasseries     4.0    2.0     75008   \n",
       "1    Le Train Bleu           256      french     4.0    4.0     75012   \n",
       "2       La Méthode            29      french     4.0    2.0     75005   \n",
       "3    Little Breizh           206   creperies     4.5    2.0     75006   \n",
       "4      La Consigne             7  brasseries     4.0    2.0     75012   \n",
       "..             ...           ...         ...     ...    ...       ...   \n",
       "98          Gemini            32     italian     4.5    2.0     75001   \n",
       "99       L'Entente            13     british     4.5    2.0     75002   \n",
       "100    Les Marches            15      french     3.5    2.0     75116   \n",
       "101          ASPIC            21      french     5.0    4.0     75009   \n",
       "102         Bulliz            20     gourmet     4.5    1.0     75010   \n",
       "\n",
       "                         street  \n",
       "0                 rue la Boétie  \n",
       "1            Place Louis Armand  \n",
       "2                 rue Descartes  \n",
       "3         rue Grégoire de Tours  \n",
       "4                   rue de Lyon  \n",
       "..                          ...  \n",
       "98               rue des Halles  \n",
       "99                 rue Monsigny  \n",
       "100       rue de la Manutention  \n",
       "101   rue de la Tour d'Auvergne  \n",
       "102            rue d'Hauteville  \n",
       "\n",
       "[100 rows x 7 columns]"
      ]
     },
     "execution_count": 53,
     "metadata": {},
     "output_type": "execute_result"
    }
   ],
   "source": [
    "df.head(100)"
   ]
  },
  {
   "cell_type": "markdown",
   "metadata": {},
   "source": [
    "### I. Data preparation"
   ]
  },
  {
   "cell_type": "code",
   "execution_count": 5,
   "metadata": {},
   "outputs": [
    {
     "name": "stdout",
     "output_type": "stream",
     "text": [
      "<class 'pandas.core.frame.DataFrame'>\n",
      "RangeIndex: 950 entries, 0 to 949\n",
      "Data columns (total 7 columns):\n",
      " #   Column        Non-Null Count  Dtype  \n",
      "---  ------        --------------  -----  \n",
      " 0   name          950 non-null    object \n",
      " 1   review_count  950 non-null    int64  \n",
      " 2   categories    950 non-null    object \n",
      " 3   rating        950 non-null    float64\n",
      " 4   price         750 non-null    float64\n",
      " 5   zip_code      949 non-null    float64\n",
      " 6   street        947 non-null    object \n",
      "dtypes: float64(3), int64(1), object(3)\n",
      "memory usage: 52.1+ KB\n"
     ]
    }
   ],
   "source": [
    "df.info()"
   ]
  },
  {
   "cell_type": "markdown",
   "metadata": {},
   "source": [
    "#### a. Deal with the null values"
   ]
  },
  {
   "cell_type": "code",
   "execution_count": 6,
   "metadata": {},
   "outputs": [],
   "source": [
    "# a few new values for zip_code and street so we can just drop the corresponding rows\n",
    "df  = df[~df['street'].isnull() & ~df['zip_code'].isnull()]"
   ]
  },
  {
   "cell_type": "code",
   "execution_count": 7,
   "metadata": {},
   "outputs": [
    {
     "name": "stdout",
     "output_type": "stream",
     "text": [
      "<class 'pandas.core.frame.DataFrame'>\n",
      "Int64Index: 946 entries, 0 to 949\n",
      "Data columns (total 7 columns):\n",
      " #   Column        Non-Null Count  Dtype  \n",
      "---  ------        --------------  -----  \n",
      " 0   name          946 non-null    object \n",
      " 1   review_count  946 non-null    int64  \n",
      " 2   categories    946 non-null    object \n",
      " 3   rating        946 non-null    float64\n",
      " 4   price         747 non-null    float64\n",
      " 5   zip_code      946 non-null    float64\n",
      " 6   street        946 non-null    object \n",
      "dtypes: float64(3), int64(1), object(3)\n",
      "memory usage: 59.1+ KB\n"
     ]
    }
   ],
   "source": [
    "df.info()"
   ]
  },
  {
   "cell_type": "code",
   "execution_count": 8,
   "metadata": {},
   "outputs": [
    {
     "data": {
      "text/plain": [
       "zip_code  categories\n",
       "75001.0   african            NaN\n",
       "          bakeries      2.000000\n",
       "          bbq           3.000000\n",
       "          bistros       2.000000\n",
       "          brasseries    2.111111\n",
       "                          ...   \n",
       "75116.0   cafes              NaN\n",
       "          fishnchips         NaN\n",
       "          french        3.000000\n",
       "          moroccan      2.000000\n",
       "94140.0   armenian           NaN\n",
       "Name: price, Length: 339, dtype: float64"
      ]
     },
     "execution_count": 8,
     "metadata": {},
     "output_type": "execute_result"
    }
   ],
   "source": [
    "# for prices we are going to try to fill missing prices by the average price of restaurants belonging to the same category and located in the same area\n",
    "df.groupby(['zip_code', 'categories']).mean()['price']"
   ]
  },
  {
   "cell_type": "code",
   "execution_count": 9,
   "metadata": {},
   "outputs": [],
   "source": [
    "df[\"price\"] = df.groupby(['zip_code', 'categories'])['price'].transform(lambda x: x.fillna(x.mean()))"
   ]
  },
  {
   "cell_type": "code",
   "execution_count": 10,
   "metadata": {},
   "outputs": [],
   "source": [
    "# for the nan price remaining we are just going to drop the corresponding rows\n",
    "df = df[~df['price'].isnull()]"
   ]
  },
  {
   "cell_type": "code",
   "execution_count": 11,
   "metadata": {},
   "outputs": [
    {
     "name": "stdout",
     "output_type": "stream",
     "text": [
      "<class 'pandas.core.frame.DataFrame'>\n",
      "Int64Index: 877 entries, 0 to 948\n",
      "Data columns (total 7 columns):\n",
      " #   Column        Non-Null Count  Dtype  \n",
      "---  ------        --------------  -----  \n",
      " 0   name          877 non-null    object \n",
      " 1   review_count  877 non-null    int64  \n",
      " 2   categories    877 non-null    object \n",
      " 3   rating        877 non-null    float64\n",
      " 4   price         877 non-null    float64\n",
      " 5   zip_code      877 non-null    float64\n",
      " 6   street        877 non-null    object \n",
      "dtypes: float64(3), int64(1), object(3)\n",
      "memory usage: 54.8+ KB\n"
     ]
    }
   ],
   "source": [
    "df.info()"
   ]
  },
  {
   "cell_type": "code",
   "execution_count": 23,
   "metadata": {},
   "outputs": [],
   "source": [
    "# round price data so it can be treated as a categorical feature\n",
    "df['price'] = df.loc[:, 'price'].apply(lambda x: round(x, 0))"
   ]
  },
  {
   "cell_type": "code",
   "execution_count": 13,
   "metadata": {},
   "outputs": [
    {
     "data": {
      "text/plain": [
       "2.0    434\n",
       "3.0    271\n",
       "4.0     55\n",
       "1.0     45\n",
       "2.5     19\n",
       "2.9     11\n",
       "2.6     10\n",
       "2.7      9\n",
       "3.1      7\n",
       "2.2      6\n",
       "2.1      4\n",
       "2.4      2\n",
       "2.8      2\n",
       "1.5      2\n",
       "Name: price, dtype: int64"
      ]
     },
     "execution_count": 13,
     "metadata": {},
     "output_type": "execute_result"
    }
   ],
   "source": [
    "df.price.value_counts()"
   ]
  },
  {
   "cell_type": "code",
   "execution_count": 14,
   "metadata": {},
   "outputs": [],
   "source": [
    "# convert zip_code to integer \n",
    "df['zip_code'] = df['zip_code'].apply(lambda x: int(x))\n"
   ]
  },
  {
   "cell_type": "markdown",
   "metadata": {},
   "source": [
    "### II. Stastical EDA"
   ]
  },
  {
   "cell_type": "code",
   "execution_count": 15,
   "metadata": {},
   "outputs": [],
   "source": [
    "sns.set(color_codes=True, palette='coolwarm_r', style='darkgrid')"
   ]
  },
  {
   "cell_type": "code",
   "execution_count": 16,
   "metadata": {},
   "outputs": [
    {
     "data": {
      "text/plain": [
       "Index(['name', 'review_count', 'categories', 'rating', 'price', 'zip_code',\n",
       "       'street'],\n",
       "      dtype='object')"
      ]
     },
     "execution_count": 16,
     "metadata": {},
     "output_type": "execute_result"
    }
   ],
   "source": [
    "df.columns"
   ]
  },
  {
   "cell_type": "code",
   "execution_count": 17,
   "metadata": {},
   "outputs": [
    {
     "data": {
      "text/html": [
       "<div>\n",
       "<style scoped>\n",
       "    .dataframe tbody tr th:only-of-type {\n",
       "        vertical-align: middle;\n",
       "    }\n",
       "\n",
       "    .dataframe tbody tr th {\n",
       "        vertical-align: top;\n",
       "    }\n",
       "\n",
       "    .dataframe thead th {\n",
       "        text-align: right;\n",
       "    }\n",
       "</style>\n",
       "<table border=\"1\" class=\"dataframe\">\n",
       "  <thead>\n",
       "    <tr style=\"text-align: right;\">\n",
       "      <th></th>\n",
       "      <th>review_count</th>\n",
       "      <th>rating</th>\n",
       "      <th>price</th>\n",
       "      <th>zip_code</th>\n",
       "    </tr>\n",
       "  </thead>\n",
       "  <tbody>\n",
       "    <tr>\n",
       "      <th>count</th>\n",
       "      <td>877.000000</td>\n",
       "      <td>877.000000</td>\n",
       "      <td>877.000000</td>\n",
       "      <td>877.000000</td>\n",
       "    </tr>\n",
       "    <tr>\n",
       "      <th>mean</th>\n",
       "      <td>54.506271</td>\n",
       "      <td>4.305587</td>\n",
       "      <td>2.431471</td>\n",
       "      <td>75010.865450</td>\n",
       "    </tr>\n",
       "    <tr>\n",
       "      <th>std</th>\n",
       "      <td>77.574866</td>\n",
       "      <td>0.418061</td>\n",
       "      <td>0.680159</td>\n",
       "      <td>16.615176</td>\n",
       "    </tr>\n",
       "    <tr>\n",
       "      <th>min</th>\n",
       "      <td>1.000000</td>\n",
       "      <td>1.500000</td>\n",
       "      <td>1.000000</td>\n",
       "      <td>75001.000000</td>\n",
       "    </tr>\n",
       "    <tr>\n",
       "      <th>25%</th>\n",
       "      <td>9.000000</td>\n",
       "      <td>4.000000</td>\n",
       "      <td>2.000000</td>\n",
       "      <td>75004.000000</td>\n",
       "    </tr>\n",
       "    <tr>\n",
       "      <th>50%</th>\n",
       "      <td>26.000000</td>\n",
       "      <td>4.500000</td>\n",
       "      <td>2.000000</td>\n",
       "      <td>75008.000000</td>\n",
       "    </tr>\n",
       "    <tr>\n",
       "      <th>75%</th>\n",
       "      <td>67.000000</td>\n",
       "      <td>4.500000</td>\n",
       "      <td>3.000000</td>\n",
       "      <td>75014.000000</td>\n",
       "    </tr>\n",
       "    <tr>\n",
       "      <th>max</th>\n",
       "      <td>945.000000</td>\n",
       "      <td>5.000000</td>\n",
       "      <td>4.000000</td>\n",
       "      <td>75116.000000</td>\n",
       "    </tr>\n",
       "  </tbody>\n",
       "</table>\n",
       "</div>"
      ],
      "text/plain": [
       "       review_count      rating       price      zip_code\n",
       "count    877.000000  877.000000  877.000000    877.000000\n",
       "mean      54.506271    4.305587    2.431471  75010.865450\n",
       "std       77.574866    0.418061    0.680159     16.615176\n",
       "min        1.000000    1.500000    1.000000  75001.000000\n",
       "25%        9.000000    4.000000    2.000000  75004.000000\n",
       "50%       26.000000    4.500000    2.000000  75008.000000\n",
       "75%       67.000000    4.500000    3.000000  75014.000000\n",
       "max      945.000000    5.000000    4.000000  75116.000000"
      ]
     },
     "execution_count": 17,
     "metadata": {},
     "output_type": "execute_result"
    }
   ],
   "source": [
    "df.describe()"
   ]
  },
  {
   "cell_type": "code",
   "execution_count": 18,
   "metadata": {},
   "outputs": [],
   "source": [
    "# categorize the variables between the numerical, the categorical and the categorial with many classes \n",
    "var_num = [df['review_count']]\n",
    "var_cat = [df['rating'], df['price'], df['zip_code']]\n",
    "var_cat_lg = [df['categories'], df['street']]"
   ]
  },
  {
   "cell_type": "code",
   "execution_count": 19,
   "metadata": {},
   "outputs": [
    {
     "data": {
      "image/png": "[encoded data removed]",
      "text/plain": [
       "<Figure size 432x288 with 1 Axes>"
      ]
     },
     "metadata": {},
     "output_type": "display_data"
    }
   ],
   "source": [
    "for var in var_num:\n",
    "    sns.distplot(var, bins= 25, color='g')\n",
    "    plt.show()"
   ]
  },
  {
   "cell_type": "code",
   "execution_count": 143,
   "metadata": {},
   "outputs": [],
   "source": [
    "# review_count is skewed"
   ]
  },
  {
   "cell_type": "code",
   "execution_count": 24,
   "metadata": {},
   "outputs": [
    {
     "data": {
      "image/png": "[encoded data removed]",
      "text/plain": [
       "<Figure size 432x288 with 1 Axes>"
      ]
     },
     "metadata": {},
     "output_type": "display_data"
    },
    {
     "data": {
      "image/png": "[encoded data removed]",
      "text/plain": [
       "<Figure size 432x288 with 1 Axes>"
      ]
     },
     "metadata": {},
     "output_type": "display_data"
    },
    {
     "data": {
      "image/png": "[encoded data removed]",
      "text/plain": [
       "<Figure size 432x288 with 1 Axes>"
      ]
     },
     "metadata": {},
     "output_type": "display_data"
    }
   ],
   "source": [
    "for var in var_cat:\n",
    "    sns.barplot(x = var.value_counts().index, y=var.value_counts().values)\n",
    "    plt.xlabel(var.name)\n",
    "    plt.ylabel('Number of restaurants')\n",
    "    plt.xticks(rotation='vertical')\n",
    "    plt.title('Barplot of ' + var.name)\n",
    "    plt.show()"
   ]
  },
  {
   "cell_type": "code",
   "execution_count": 126,
   "metadata": {},
   "outputs": [],
   "source": [
    "# there's a double value \"rue Saaint-Honoré\" & \"rue Saint Honoré\"\n",
    "# we can rectify it by replacing all \"-\" by a regular space\n",
    "# + make sure street data is easily accessible\n",
    "df['street'] = df['street'].str.replace('-', ' ')\n",
    "df['street'] = df['street'].str.strip()\n",
    "df['street'] = df['street'].astype(str)"
   ]
  },
  {
   "cell_type": "code",
   "execution_count": 48,
   "metadata": {},
   "outputs": [
    {
     "data": {
      "image/png": "[encoded data removed]",
      "text/plain": [
       "<Figure size 432x288 with 1 Axes>"
      ]
     },
     "metadata": {},
     "output_type": "display_data"
    },
    {
     "data": {
      "image/png": "[encoded data removed]",
      "text/plain": [
       "<Figure size 432x288 with 1 Axes>"
      ]
     },
     "metadata": {},
     "output_type": "display_data"
    }
   ],
   "source": [
    "for var in var_cat_lg:\n",
    "    sns.barplot(y = var.value_counts().index[:10], \n",
    "                x=var.value_counts().values[:10],\n",
    "                palette='GnBu_r')\n",
    "    plt.xlabel(var.name)\n",
    "    plt.ylabel('Number of restaurants')\n",
    "    plt.xticks(rotation='vertical')\n",
    "    plt.title('Barplot of top10 ' + var.name)\n",
    "    plt.show()"
   ]
  },
  {
   "cell_type": "code",
   "execution_count": 28,
   "metadata": {},
   "outputs": [],
   "source": [
    "# QUESTION: among the top 5 streets in number of restaurants which street is the one\n",
    "# with the biggest rating average / average price / number of reviews"
   ]
  },
  {
   "cell_type": "code",
   "execution_count": 118,
   "metadata": {},
   "outputs": [
    {
     "data": {
      "text/plain": [
       "Index(['rue Saint Honoré', 'rue de Richelieu', 'rue Coquillière',\n",
       "       'rue du Temple', 'rue de Rivoli'],\n",
       "      dtype='object')"
      ]
     },
     "execution_count": 118,
     "metadata": {},
     "output_type": "execute_result"
    }
   ],
   "source": [
    "busy_streets = df['street'].value_counts().index[:5].str.strip()\n",
    "busy_streets"
   ]
  },
  {
   "cell_type": "code",
   "execution_count": null,
   "metadata": {},
   "outputs": [],
   "source": []
  },
  {
   "cell_type": "code",
   "execution_count": 150,
   "metadata": {},
   "outputs": [],
   "source": [
    "avg_prices = []\n",
    "avg_ratings = []\n",
    "\n",
    "for st in busy_streets:\n",
    "    # for each busy street (top 5 streets with the biggest amount of restaurants) get the average price of the restaurants\n",
    "    price = df[df['street'] == st]['price'].mean()\n",
    "    avg_prices.append(price)\n",
    "    # the average rating of the restaurants \n",
    "    rating = df[df['street'] == st]['rating'].mean()\n",
    "    avg_ratings.append(rating)\n",
    "    "
   ]
  },
  {
   "cell_type": "code",
   "execution_count": 151,
   "metadata": {},
   "outputs": [
    {
     "data": {
      "image/png": "[encoded data removed]",
      "text/plain": [
       "<Figure size 432x288 with 1 Axes>"
      ]
     },
     "metadata": {},
     "output_type": "display_data"
    }
   ],
   "source": [
    "sns.barplot(x=busy_streets, y=avg_prices, palette='bwr')\n",
    "plt.xlabel(('street'))\n",
    "plt.ylabel('Average price (scale of 4)')\n",
    "plt.xticks(rotation='vertical')\n",
    "plt.title('Average price of restaurants in the top busiest streets of Paris')\n",
    "plt.show()"
   ]
  },
  {
   "cell_type": "code",
   "execution_count": 152,
   "metadata": {},
   "outputs": [
    {
     "data": {
      "image/png": "[encoded data removed]",
      "text/plain": [
       "<Figure size 432x288 with 1 Axes>"
      ]
     },
     "metadata": {},
     "output_type": "display_data"
    }
   ],
   "source": [
    "sns.barplot(x=busy_streets, y=avg_ratings, palette='cool_r')\n",
    "plt.xlabel(('street'))\n",
    "plt.ylabel('Average rating (scale of 5)')\n",
    "plt.xticks(rotation='vertical')\n",
    "plt.title('Average ratings of restaurants in the top busiest streets of Paris', )\n",
    "plt.show()"
   ]
  },
  {
   "cell_type": "markdown",
   "metadata": {},
   "source": [
    "**Analysis**:  'Rue du Temple' seems to have relatively good rating restaurants for a relatively low price in comparisson to the other four 'busy streets'"
   ]
  }
 ],
 "metadata": {
  "kernelspec": {
   "display_name": "Python 3",
   "language": "python",
   "name": "python3"
  },
  "language_info": {
   "codemirror_mode": {
    "name": "ipython",
    "version": 3
   },
   "file_extension": ".py",
   "mimetype": "text/x-python",
   "name": "python",
   "nbconvert_exporter": "python",
   "pygments_lexer": "ipython3",
   "version": "3.7.6"
  }
 },
 "nbformat": 4,
 "nbformat_minor": 4
}
